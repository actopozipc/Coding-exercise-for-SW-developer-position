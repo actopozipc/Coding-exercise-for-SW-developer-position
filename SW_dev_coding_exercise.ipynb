{
 "cells": [
  {
   "cell_type": "code",
   "execution_count": 1,
   "id": "837ffac4-9809-434b-b53b-733d5dd72997",
   "metadata": {},
   "outputs": [],
   "source": [
    "%matplotlib inline\n",
    "import rtsa\n",
    "import numpy as np\n",
    "import matplotlib.pyplot as plt\n",
    "from tqdm import tqdm\n",
    "import json\n",
    "from scipy.ndimage import label, find_objects\n",
    "from io import BytesIO\n",
    "from rtsa_decoder.rtsa_decoder import get_samples_from_file"
   ]
  },
  {
   "cell_type": "code",
   "execution_count": 2,
   "id": "f5b89582-0463-453c-bb1d-77de9ef4d1ad",
   "metadata": {},
   "outputs": [],
   "source": [
    "import os\n",
    "def find_all_rtsa_files():\n",
    "    files = []\n",
    "    for x in os.listdir():\n",
    "        if x.endswith(\".rtsa\"):\n",
    "            files.append(x)\n",
    "    return files"
   ]
  },
  {
   "cell_type": "code",
   "execution_count": 3,
   "id": "0d88019f-da6c-46cc-b8bd-ad11f1685fbf",
   "metadata": {},
   "outputs": [],
   "source": [
    "class Result:\n",
    "    def __init__(self,box,samples, contact, car_num):\n",
    "        time_slice, frequency_slice = box #box will be a binary mask, e.g a slice with times and frequencies matching the mask\n",
    "        #to get from time_slice to the correct time, we need to calculate based on the linspace in get_heatmap_png\n",
    "        #yticks = np.linspace(0, samples.samples.shape[0], 10)\n",
    "        #its an array from 0 to 93 in 10 steps\n",
    "        #in order to remap this, we need the starting time + \"the whole time\" (=time intervall) times the number of time steps (=time_slice) normalized\n",
    "        #because that way the 0. step will give the starting time, the last step will give the end time,...\n",
    "        time_arr_size = samples.samples.shape[0]\n",
    "        start_time = samples.samples_start_time\n",
    "        whole_time = samples.samples_end_time - samples.samples_start_time\n",
    "        start_time_in_seconds = start_time + whole_time * (time_slice.start/time_arr_size)\n",
    "        end_time_in_seconds = start_time + whole_time * (time_slice.stop/time_arr_size)\n",
    "        #the same for the frequency, just that the array now has around 82000 values\n",
    "        #xticks_labels = list(np.linspace(samples.frequency_start / 1e6, (samples.frequency_start + samples.frequency_span) / 1e6, 10))\n",
    "        frequency_arr_size = samples.samples.shape[1]\n",
    "        start_frequency = samples.frequency_start/1e6\n",
    "        whole_frequency = samples.frequency_span/1e6 \n",
    "        start_frequency_in_mhz = start_frequency + whole_frequency * (frequency_slice.start/frequency_arr_size)\n",
    "        end_frequency_in_mhz = start_frequency + whole_frequency * (frequency_slice.stop/frequency_arr_size)\n",
    "        #class properties\n",
    "        self.start_time = start_time_in_seconds\n",
    "        self.end_time = end_time_in_seconds\n",
    "        self.start_frequency = start_frequency_in_mhz\n",
    "        self.end_frequency = end_frequency_in_mhz\n",
    "        self.max_power = np.max(samples.samples[time_slice,frequency_slice])\n",
    "        self.contact = contact\n",
    "        self.car_num=car_num\n",
    "    \n",
    "    #https://stackoverflow.com/questions/10252010/serializing-class-instance-to-json\n",
    "    def convert_to_json(self):\n",
    "        dic = {\"contact\": self.contact,\n",
    "                \"car_num\" : self.car_num,\n",
    "               \"frq_start\" : self.start_frequency,\n",
    "               \"frq_end\" : self.end_frequency,\n",
    "               \"time_start\" : self.start_time,\n",
    "               \"time_end\" : self.end_time,\n",
    "               \"max_power\" : float(self.max_power) #TypeError: Object of type float32 is not JSON serializable\n",
    "              }\n",
    "        return json.dumps(dic)\n",
    "        "
   ]
  },
  {
   "cell_type": "code",
   "execution_count": 13,
   "id": "187caa8d-aab6-4bd8-82de-30e3bba28809",
   "metadata": {},
   "outputs": [],
   "source": [
    "#this is written by chatgpt! \n",
    "#https://chatgpt.com/share/31968137-c2d6-4eff-b6e9-5ec62ce64e51\n",
    "def draw_rectangles(samples, carriers):\n",
    "    plt.figure()\n",
    "    plt.xlabel('Frequency [MHz]')\n",
    "    frequency_steps = samples.samples.shape[1]\n",
    "    xticks = np.linspace(0, frequency_steps, 10)\n",
    "    xticks_labels = list(np.linspace(samples.frequency_start / 1e6, (samples.frequency_start + samples.frequency_span) / 1e6, 10))\n",
    "    xticks_labels = [f\"{l:.1f}\" for l in xticks_labels]\n",
    "    yticks = np.linspace(0, samples.samples.shape[0], 10)\n",
    "    yticks_labels = list(np.linspace(samples.samples_start_time, samples.samples_end_time, 10))\n",
    "    yticks_labels = [f\"{l:.1f}\" for l in yticks_labels]\n",
    "    plt.xticks(xticks, xticks_labels)\n",
    "    plt.yticks(yticks, yticks_labels)\n",
    "    plt.ylabel('Time [s]')\n",
    "    \n",
    "    plt.imshow(samples.samples, cmap='gnuplot2', aspect='auto')\n",
    "    plt.colorbar(label='Power')\n",
    "    \n",
    "    for carrier in carriers:\n",
    "        # Calculate rectangle coordinates\n",
    "        start_time_idx = int((carrier.start_time - samples.samples_start_time) / (samples.samples_end_time - samples.samples_start_time) * samples.samples.shape[0])\n",
    "        end_time_idx = int((carrier.end_time - samples.samples_start_time) / (samples.samples_end_time - samples.samples_start_time) * samples.samples.shape[0])\n",
    "        start_freq_idx = int((carrier.start_frequency - samples.frequency_start / 1e6) / (samples.frequency_span / 1e6) * samples.samples.shape[1])\n",
    "        end_freq_idx = int((carrier.end_frequency - samples.frequency_start / 1e6) / (samples.frequency_span / 1e6) * samples.samples.shape[1])\n",
    "        \n",
    "        plt.gca().add_patch(plt.Rectangle(\n",
    "            (start_freq_idx, start_time_idx), \n",
    "            end_freq_idx - start_freq_idx,\n",
    "            end_time_idx - start_time_idx, \n",
    "            edgecolor='red', facecolor='none', linewidth=2))\n",
    "\n",
    "    result = BytesIO()\n",
    "    plt.savefig(result, format=\"png\")\n",
    "    return result.getvalue()\n"
   ]
  },
  {
   "cell_type": "code",
   "execution_count": 14,
   "id": "a2a34a38-e72a-4079-8ded-08556d577cb5",
   "metadata": {},
   "outputs": [],
   "source": [
    "def find_carriers(samples, filename):\n",
    "    threshold = 3.5  #Number of std away from mean -> higher threshold, more carriers get detected\n",
    "    mean = np.mean(samples.samples)\n",
    "    std = np.std(samples.samples)\n",
    "    #https://stackoverflow.com/questions/22103572/how-to-find-the-rectangles-in-an-image\n",
    "    binary_mask = np.abs(samples.samples-mean)>(threshold*std)\n",
    "    labeled_array, n = label(binary_mask)\n",
    "    bboxes = find_objects(labeled_array)\n",
    "    carriers_info = []\n",
    "    count = 0\n",
    "    for box in tqdm(bboxes):\n",
    "        count = count+1\n",
    "        carrier_info = Result(box, samples, filename, count)\n",
    "        carriers_info.append(carrier_info)\n",
    "    return carriers_info"
   ]
  },
  {
   "cell_type": "code",
   "execution_count": 15,
   "id": "f80bb6e3-bcdb-4699-b8eb-d853c56dfb9d",
   "metadata": {},
   "outputs": [
    {
     "name": "stdout",
     "output_type": "stream",
     "text": [
      "get_samples_array: Number of samples: 7052000\n",
      "get_samples_array: Number of sweeps: 86.0\n"
     ]
    },
    {
     "name": "stderr",
     "output_type": "stream",
     "text": [
      "100%|███████████████████████████████████████████████████████| 2345/2345 [00:00<00:00, 217069.65it/s]\n"
     ]
    },
    {
     "name": "stdout",
     "output_type": "stream",
     "text": [
      "get_samples_array: Number of samples: 6970000\n",
      "get_samples_array: Number of sweeps: 85.0\n"
     ]
    },
    {
     "name": "stderr",
     "output_type": "stream",
     "text": [
      "100%|███████████████████████████████████████████████████████| 2283/2283 [00:00<00:00, 207299.88it/s]\n"
     ]
    },
    {
     "name": "stdout",
     "output_type": "stream",
     "text": [
      "get_samples_array: Number of samples: 7790000\n",
      "get_samples_array: Number of sweeps: 95.0\n"
     ]
    },
    {
     "name": "stderr",
     "output_type": "stream",
     "text": [
      "100%|███████████████████████████████████████████████████████| 2765/2765 [00:00<00:00, 206433.91it/s]\n"
     ]
    },
    {
     "name": "stdout",
     "output_type": "stream",
     "text": [
      "get_samples_array: Number of samples: 7380000\n",
      "get_samples_array: Number of sweeps: 90.0\n"
     ]
    },
    {
     "name": "stderr",
     "output_type": "stream",
     "text": [
      "100%|███████████████████████████████████████████████████████| 5407/5407 [00:00<00:00, 165868.98it/s]\n"
     ]
    },
    {
     "name": "stdout",
     "output_type": "stream",
     "text": [
      "get_samples_array: Number of samples: 6970000\n",
      "get_samples_array: Number of sweeps: 85.0\n"
     ]
    },
    {
     "name": "stderr",
     "output_type": "stream",
     "text": [
      "100%|███████████████████████████████████████████████████████| 4011/4011 [00:00<00:00, 209602.85it/s]\n"
     ]
    },
    {
     "name": "stdout",
     "output_type": "stream",
     "text": [
      "get_samples_array: Number of samples: 7462000\n",
      "get_samples_array: Number of sweeps: 91.0\n"
     ]
    },
    {
     "name": "stderr",
     "output_type": "stream",
     "text": [
      "100%|████████████████████████████████████████████████████████| 8757/8757 [00:00<00:00, 26957.80it/s]\n"
     ]
    },
    {
     "name": "stdout",
     "output_type": "stream",
     "text": [
      "get_samples_array: Number of samples: 7790000\n",
      "get_samples_array: Number of sweeps: 95.0\n"
     ]
    },
    {
     "name": "stderr",
     "output_type": "stream",
     "text": [
      "100%|███████████████████████████████████████████████████████| 3246/3246 [00:00<00:00, 163200.93it/s]\n"
     ]
    },
    {
     "name": "stdout",
     "output_type": "stream",
     "text": [
      "get_samples_array: Number of samples: 7052000\n",
      "get_samples_array: Number of sweeps: 86.0\n"
     ]
    },
    {
     "name": "stderr",
     "output_type": "stream",
     "text": [
      "100%|████████████████████████████████████████████████████████| 4326/4326 [00:00<00:00, 16662.94it/s]\n"
     ]
    },
    {
     "name": "stdout",
     "output_type": "stream",
     "text": [
      "get_samples_array: Number of samples: 7872000\n",
      "get_samples_array: Number of sweeps: 96.0\n"
     ]
    },
    {
     "name": "stderr",
     "output_type": "stream",
     "text": [
      "100%|███████████████████████████████████████████████████████| 2438/2438 [00:00<00:00, 197472.40it/s]\n"
     ]
    },
    {
     "name": "stdout",
     "output_type": "stream",
     "text": [
      "get_samples_array: Number of samples: 6806000\n",
      "get_samples_array: Number of sweeps: 83.0\n"
     ]
    },
    {
     "name": "stderr",
     "output_type": "stream",
     "text": [
      "100%|███████████████████████████████████████████████████████| 3860/3860 [00:00<00:00, 203261.90it/s]\n"
     ]
    },
    {
     "name": "stdout",
     "output_type": "stream",
     "text": [
      "get_samples_array: Number of samples: 7626000\n",
      "get_samples_array: Number of sweeps: 93.0\n"
     ]
    },
    {
     "name": "stderr",
     "output_type": "stream",
     "text": [
      "100%|███████████████████████████████████████████████████████| 2950/2950 [00:00<00:00, 201935.55it/s]\n"
     ]
    },
    {
     "name": "stdout",
     "output_type": "stream",
     "text": [
      "get_samples_array: Number of samples: 7380000\n",
      "get_samples_array: Number of sweeps: 90.0\n"
     ]
    },
    {
     "name": "stderr",
     "output_type": "stream",
     "text": [
      "100%|███████████████████████████████████████████████████████| 7374/7374 [00:00<00:00, 201949.69it/s]\n"
     ]
    },
    {
     "name": "stdout",
     "output_type": "stream",
     "text": [
      "get_samples_array: Number of samples: 7790000\n",
      "get_samples_array: Number of sweeps: 95.0\n"
     ]
    },
    {
     "name": "stderr",
     "output_type": "stream",
     "text": [
      "100%|███████████████████████████████████████████████████████| 6219/6219 [00:00<00:00, 215840.93it/s]\n"
     ]
    },
    {
     "name": "stdout",
     "output_type": "stream",
     "text": [
      "get_samples_array: Number of samples: 6724000\n",
      "get_samples_array: Number of sweeps: 82.0\n"
     ]
    },
    {
     "name": "stderr",
     "output_type": "stream",
     "text": [
      "100%|███████████████████████████████████████████████████████| 9659/9659 [00:00<00:00, 204825.18it/s]\n"
     ]
    },
    {
     "name": "stdout",
     "output_type": "stream",
     "text": [
      "get_samples_array: Number of samples: 3772000\n",
      "get_samples_array: Number of sweeps: 46.0\n"
     ]
    },
    {
     "name": "stderr",
     "output_type": "stream",
     "text": [
      "100%|███████████████████████████████████████████████████████| 1405/1405 [00:00<00:00, 183120.39it/s]\n"
     ]
    }
   ],
   "source": [
    "files = find_all_rtsa_files()\n",
    "samples_list = []\n",
    "for file in files:\n",
    "    with open(file, \"rb\") as file_object:\n",
    "            #rtsa.print_file_chunks(file_object)\n",
    "            samples = rtsa.get_samples_from_file(file_object)\n",
    "            samples_list.append(samples)\n",
    "    heatmap_bytes = rtsa.get_heatmap_png(samples)\n",
    "    carriers = find_carriers(samples, file)\n",
    "    heatmap_with_rectangles = draw_rectangles(samples, carriers)\n",
    "    s = json.dumps([c.convert_to_json() for c in carriers])\n",
    "    with open(f\"{file}-samples-data.json\", \"w\") as j: #only w because it is no binary\n",
    "        j.write(s)\n",
    "    with open(f\"{file}-samples-heatmap.png\", \"wb\") as heatmap_file:\n",
    "            heatmap_file.write(heatmap_with_rectangles)\n",
    "    with open(f\"{file}-samples.png\", \"wb\") as heatmap_file:\n",
    "        heatmap_file.write(heatmap_bytes)\n",
    "    "
   ]
  },
  {
   "cell_type": "code",
   "execution_count": null,
   "id": "487f648f-8947-4619-9b18-19ad8d8e2e3d",
   "metadata": {},
   "outputs": [],
   "source": []
  },
  {
   "cell_type": "code",
   "execution_count": null,
   "id": "587c5fd5-eb70-486b-980b-5d92915cf18b",
   "metadata": {},
   "outputs": [],
   "source": []
  },
  {
   "cell_type": "code",
   "execution_count": null,
   "id": "9b442895-05bc-4e83-8c05-b40154e68b2e",
   "metadata": {},
   "outputs": [],
   "source": []
  }
 ],
 "metadata": {
  "kernelspec": {
   "display_name": "Python 3 (ipykernel)",
   "language": "python",
   "name": "python3"
  },
  "language_info": {
   "codemirror_mode": {
    "name": "ipython",
    "version": 3
   },
   "file_extension": ".py",
   "mimetype": "text/x-python",
   "name": "python",
   "nbconvert_exporter": "python",
   "pygments_lexer": "ipython3",
   "version": "3.12.4"
  }
 },
 "nbformat": 4,
 "nbformat_minor": 5
}
